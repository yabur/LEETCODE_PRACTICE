{
 "cells": [
  {
   "cell_type": "code",
   "execution_count": 12,
   "id": "hispanic-andrews",
   "metadata": {
    "scrolled": true
   },
   "outputs": [
    {
     "name": "stdout",
     "output_type": "stream",
     "text": [
      "abc\n",
      "['a', 'b', 'c']\n"
     ]
    }
   ],
   "source": [
    "  hashTable = {\n",
    "        '1': \"\",\n",
    "        '2': \"abc\",\n",
    "        '3': \"def\",\n",
    "        '4': \"ghi\",\n",
    "        '5': \"jkl\",\n",
    "        '6': \"mno\",\n",
    "        '7': \"pqrs\",\n",
    "}\n",
    "input = [\"1\",\"2\",\"3\"]\n",
    "slate = []\n",
    "chars = hashTable[input[1]]\n",
    "print(chars)\n",
    "if chars:\n",
    "    for x in chars: \n",
    "        slate.append(x)\n",
    "print(slate)"
   ]
  },
  {
   "cell_type": "code",
   "execution_count": 8,
   "id": "relative-papua",
   "metadata": {},
   "outputs": [],
   "source": [
    "def how_many_BSTs(n):\n",
    "    def helper(node, memo):\n",
    "        if node in memo:\n",
    "            return memo[node]\n",
    "            \n",
    "        if node == 0 or node == 1:\n",
    "            memo[node] = 1\n",
    "            return 1\n",
    "            \n",
    "        result = 0\n",
    "        for i in range(node):\n",
    "            result += helper(i, memo) * helper(node - 1 - i, memo)\n",
    "        memo[node] = result\n",
    "        return result\n",
    "        \n",
    "    return helper(n, dict())\n",
    "    \n",
    "    if __name__ == '__main__':\n",
    "        res = how_many_BSTs(3)\n",
    "        print(res)"
   ]
  },
  {
   "cell_type": "code",
   "execution_count": 28,
   "id": "extraordinary-relations",
   "metadata": {},
   "outputs": [
    {
     "ename": "SyntaxError",
     "evalue": "invalid syntax (<ipython-input-28-88da99607c47>, line 5)",
     "output_type": "error",
     "traceback": [
      "\u001b[1;36m  File \u001b[1;32m\"<ipython-input-28-88da99607c47>\"\u001b[1;36m, line \u001b[1;32m5\u001b[0m\n\u001b[1;33m    b.append(s[])\u001b[0m\n\u001b[1;37m               ^\u001b[0m\n\u001b[1;31mSyntaxError\u001b[0m\u001b[1;31m:\u001b[0m invalid syntax\n"
     ]
    }
   ],
   "source": [
    "b = []\n",
    "s=[\"aab\"]\n",
    "i = 0 \n",
    "j= 0\n",
    "b.append(s[])\n",
    "print(b)"
   ]
  },
  {
   "cell_type": "code",
   "execution_count": 35,
   "id": "alone-emphasis",
   "metadata": {
    "scrolled": true
   },
   "outputs": [
    {
     "name": "stdout",
     "output_type": "stream",
     "text": [
      "[[2, 1, 2], [1, 2, 2], [1, 2, 2], [1, 2, 2], [2, 1, 2], [2, 2, 1], [2, 2, 1], [2, 2, 1], [2, 1, 2]]\n"
     ]
    }
   ],
   "source": [
    "arr = [1,2,2]\n",
    "\n",
    "import copy\n",
    "def get_permutations(arr):\n",
    "    result = []\n",
    "   #\n",
    "   \n",
    "    # Helper Function\n",
    "    def helper(i, slate):\n",
    "        # base case\n",
    "        if i == len(arr) - 1:\n",
    "            result.append(slate.copy())\n",
    "            return\n",
    "        else:\n",
    "            for j in range (0, len(slate)):\n",
    "                slate[j] , slate[i] = slate[i], slate[j]\n",
    "                \n",
    "                helper(i+1, slate)\n",
    "                slate[i], slate[j]  = slate[j], slate[i]            \n",
    "    \n",
    "    helper(0, arr.copy())\n",
    "    return result\n",
    "\n",
    "\n",
    "print(get_permutations(arr))"
   ]
  },
  {
   "cell_type": "code",
   "execution_count": 9,
   "id": "focal-sculpture",
   "metadata": {},
   "outputs": [
    {
     "name": "stdout",
     "output_type": "stream",
     "text": [
      "['a', 'b', 'c', 'd', 'e', 'f', 'g', 'h', 'i', 'j', 'k', 'l', 'm', 'n', 'o', 'p', 'q', 'r', 's', 't', 'u', 'v', 'w', 'x', 'y', 'z']\n"
     ]
    }
   ],
   "source": [
    "import string\n",
    "print (list(string.ascii_lowercase))"
   ]
  }
 ],
 "metadata": {
  "kernelspec": {
   "display_name": "Python 3",
   "language": "python",
   "name": "python3"
  },
  "language_info": {
   "codemirror_mode": {
    "name": "ipython",
    "version": 3
   },
   "file_extension": ".py",
   "mimetype": "text/x-python",
   "name": "python",
   "nbconvert_exporter": "python",
   "pygments_lexer": "ipython3",
   "version": "3.9.1"
  }
 },
 "nbformat": 4,
 "nbformat_minor": 5
}
